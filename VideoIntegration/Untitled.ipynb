{
 "cells": [
  {
   "cell_type": "code",
   "execution_count": null,
   "metadata": {},
   "outputs": [],
   "source": []
  },
  {
   "cell_type": "code",
   "execution_count": 12,
   "metadata": {},
   "outputs": [],
   "source": [
    "#import torch\n",
    "import datetime\n",
    "import os"
   ]
  },
  {
   "cell_type": "code",
   "execution_count": 13,
   "metadata": {},
   "outputs": [
    {
     "name": "stdout",
     "output_type": "stream",
     "text": [
      "['021-czechvrfetish-3d-1920x960-60fps-smartphone_hq-trailer-1.mp4', '022-czechvrfetish-3d-1920x960-60fps-smartphone_hq-trailer-1.mp4', '023-czechvrfetish-3d-1920x960-60fps-smartphone_hq-trailer-1.mp4', '024-czechvrfetish-3d-1920x960-60fps-smartphone_hq-trailer-1.mp4', '025-czechvrfetish-3d-1920x960-60fps-smartphone_hq-trailer-1.mp4', '026-czechvrfetish-3d-1920x960-60fps-smartphone_hq-trailer-1.mp4', '027-czechvrfetish-3d-1920x960-60fps-smartphone_hq-trailer-1.mp4', '028-czechvrfetish-3d-1920x960-60fps-smartphone_hq-trailer-1.mp4', '029-czechvrfetish-3d-1920x960-60fps-smartphone_hq-trailer-1.mp4', '030-czechvrfetish-3d-1920x960-60fps-smartphone_hq-trailer-1.mp4', '031-czechvrfetish-3d-1920x960-60fps-smartphone_hq-trailer-1.mp4', '032-czechvrfetish-3d-1920x960-60fps-smartphone_hq-trailer-1.mp4', '033-czechvrfetish-3d-1920x960-60fps-smartphone_hq-trailer-1.mp4', '034-czechvrfetish-3d-1920x960-60fps-smartphone_hq-trailer-1.mp4', '035-czechvrfetish-3d-1920x960-60fps-smartphone_hq-trailer-1.mp4', '036-czechvrfetish-3d-1920x960-60fps-smartphone_hq-trailer-1.mp4', '037-czechvrfetish-3d-1920x960-60fps-smartphone_hq-trailer-1.mp4', '038-czechvrfetish-3d-1920x960-60fps-smartphone_hq-trailer-1.mp4', '039-czechvrfetish-3d-1920x960-60fps-smartphone_hq-trailer-1.mp4', '040-czechvrfetish-3d-1920x960-60fps-smartphone_hq-trailer-1.mp4', '041-czechvrfetish-3d-1920x960-60fps-smartphone_hq-trailer-1.mp4', '042-czechvrfetish-3d-1920x960-60fps-smartphone_hq-trailer-1.mp4', '043-czechvrfetish-3d-1920x960-60fps-smartphone_hq-trailer-1.mp4', '044-czechvrfetish-3d-1920x960-60fps-smartphone_hq-trailer-1.mp4', '045-czechvrfetish-3d-1920x960-60fps-smartphone_hq-trailer-1.mp4', '046-czechvrfetish-3d-1920x960-60fps-smartphone_hq-trailer-1.mp4', '047-czechvrfetish-3d-1920x960-60fps-smartphone_hq-trailer-1.mp4', '048-czechvrfetish-3d-1920x960-60fps-smartphone_hq-trailer-1.mp4', '049-czechvrfetish-3d-1920x960-60fps-smartphone_hq-trailer-1.mp4', '050-czechvrfetish-3d-1920x960-60fps-smartphone_hq-trailer-1.mp4', 'cut_times.csv', 'v_detail.xlsx']\n",
      "C:/Users/SUNJIANJUN/Documents/DeepLearning/shared/data/\n"
     ]
    }
   ],
   "source": [
    "path = \"C:/Users/SUNJIANJUN/Documents/DeepLearning/shared/data/\"\n",
    "for root, dirs, files in os.walk(path):\n",
    "    if (path != root):\n",
    "        continue\n",
    "    print(files)\n",
    "    print(root)"
   ]
  },
  {
   "cell_type": "code",
   "execution_count": 3,
   "metadata": {},
   "outputs": [
    {
     "ename": "NameError",
     "evalue": "name 'starttime' is not defined",
     "output_type": "error",
     "traceback": [
      "\u001b[1;31m---------------------------------------------------------------------------\u001b[0m",
      "\u001b[1;31mNameError\u001b[0m                                 Traceback (most recent call last)",
      "\u001b[1;32m<ipython-input-3-b99fe494ed75>\u001b[0m in \u001b[0;36m<module>\u001b[1;34m()\u001b[0m\n\u001b[0;32m      1\u001b[0m \u001b[0mendtime\u001b[0m \u001b[1;33m=\u001b[0m \u001b[0mdatetime\u001b[0m\u001b[1;33m.\u001b[0m\u001b[0mdatetime\u001b[0m\u001b[1;33m.\u001b[0m\u001b[0mnow\u001b[0m\u001b[1;33m(\u001b[0m\u001b[1;33m)\u001b[0m\u001b[1;33m\u001b[0m\u001b[0m\n\u001b[1;32m----> 2\u001b[1;33m \u001b[0mprint\u001b[0m \u001b[1;33m(\u001b[0m\u001b[0mendtime\u001b[0m \u001b[1;33m-\u001b[0m \u001b[0mstarttime\u001b[0m\u001b[1;33m)\u001b[0m\u001b[1;33m.\u001b[0m\u001b[0mseconds\u001b[0m\u001b[1;33m\u001b[0m\u001b[0m\n\u001b[0m",
      "\u001b[1;31mNameError\u001b[0m: name 'starttime' is not defined"
     ]
    }
   ],
   "source": [
    "endtime = datetime.datetime.now()\n",
    "print (endtime - starttime).seconds"
   ]
  },
  {
   "cell_type": "code",
   "execution_count": 6,
   "metadata": {},
   "outputs": [],
   "source": [
    "import math\n"
   ]
  },
  {
   "cell_type": "code",
   "execution_count": 7,
   "metadata": {},
   "outputs": [
    {
     "data": {
      "text/plain": [
       "(45, 0)"
      ]
     },
     "execution_count": 7,
     "metadata": {},
     "output_type": "execute_result"
    }
   ],
   "source": [
    "#divmod(6, 60)\n",
    "#math.floor(32 / 60)\n",
    "divmod(90, 2)"
   ]
  },
  {
   "cell_type": "code",
   "execution_count": 37,
   "metadata": {},
   "outputs": [
    {
     "name": "stdout",
     "output_type": "stream",
     "text": [
      "FFF\n"
     ]
    }
   ],
   "source": [
    "f = False\n",
    "if f:\n",
    "    print(\"TTT\")\n",
    "else:\n",
    "    print(\"FFF\")"
   ]
  },
  {
   "cell_type": "code",
   "execution_count": 11,
   "metadata": {},
   "outputs": [
    {
     "data": {
      "text/plain": [
       "22"
      ]
     },
     "execution_count": 11,
     "metadata": {},
     "output_type": "execute_result"
    }
   ],
   "source": [
    "a, v = 1, 22\n",
    "v"
   ]
  },
  {
   "cell_type": "code",
   "execution_count": 10,
   "metadata": {},
   "outputs": [
    {
     "name": "stdout",
     "output_type": "stream",
     "text": [
      "['8', '80']\n"
     ]
    }
   ],
   "source": [
    "import csv\n",
    "cut_times = {}\n",
    "with open('C:/Users/SUNJIANJUN/Documents/DeepLearning/shared/data/cut_times.csv') as f:\n",
    "    f_csv = csv.reader(f)\n",
    "    for row in f_csv:\n",
    "        cut_times[row[0]] = row[1:]\n",
    "    print(cut_times['035-czechvrfetish-3d-1920x960-60fps-smartphone_hq-trailer-1.mp4'])\n",
    "        # process row\n",
    "        #..."
   ]
  },
  {
   "cell_type": "code",
   "execution_count": null,
   "metadata": {},
   "outputs": [],
   "source": []
  },
  {
   "cell_type": "code",
   "execution_count": null,
   "metadata": {},
   "outputs": [],
   "source": []
  }
 ],
 "metadata": {
  "kernelspec": {
   "display_name": "Python 3",
   "language": "python",
   "name": "python3"
  },
  "language_info": {
   "codemirror_mode": {
    "name": "ipython",
    "version": 3
   },
   "file_extension": ".py",
   "mimetype": "text/x-python",
   "name": "python",
   "nbconvert_exporter": "python",
   "pygments_lexer": "ipython3",
   "version": "3.6.4"
  }
 },
 "nbformat": 4,
 "nbformat_minor": 2
}
