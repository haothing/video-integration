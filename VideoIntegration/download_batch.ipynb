{
 "cells": [
  {
   "cell_type": "code",
   "execution_count": 1,
   "metadata": {},
   "outputs": [],
   "source": [
    "from urllib.request import urlopen\n",
    "from urllib.request import Request\n",
    "import urllib\n",
    "import os\n",
    "import re"
   ]
  },
  {
   "cell_type": "code",
   "execution_count": 2,
   "metadata": {},
   "outputs": [],
   "source": [
    "def cbk(a,b,c):\n",
    "    '''回调函数\n",
    "    @a:已经下载的数据块\n",
    "    @b:数据块的大小\n",
    "    @c:远程文件的大小\n",
    "    '''\n",
    "    per=100.0*a*b/c\n",
    "    if per>100:\n",
    "        per=100\n",
    "    print('\\r  %.1f%%' % per, end='')"
   ]
  },
  {
   "cell_type": "code",
   "execution_count": 3,
   "metadata": {},
   "outputs": [],
   "source": [
    "# 基础URL\n",
    "baseUrl = 'https://trailers.czechvr.com/czechvrfetish/videos/download/'   "
   ]
  },
  {
   "cell_type": "code",
   "execution_count": 4,
   "metadata": {
    "scrolled": true
   },
   "outputs": [
    {
     "name": "stdout",
     "output_type": "stream",
     "text": [
      "078/078-czechvrfetish-3d-2160x1080-60fps-smartphone_hq-trailer-1.mp4\n",
      "  100.0%\n",
      "079/079-czechvrfetish-3d-2160x1080-60fps-smartphone_hq-trailer-1.mp4\n",
      "  100.0%\n",
      "080/080-czechvrfetish-3d-2160x1080-60fps-smartphone_hq-trailer-1.mp4\n",
      "  100.0%\n",
      "081/081-czechvrfetish-3d-2160x1080-60fps-smartphone_hq-trailer-1.mp4\n",
      "  100.0%\n",
      "082/082-czechvrfetish-3d-2160x1080-60fps-smartphone_hq-trailer-1.mp4\n",
      "  100.0%\n",
      "083/083-czechvrfetish-3d-2160x1080-60fps-smartphone_hq-trailer-1.mp4\n",
      "  100.0%\n",
      "084/084-czechvrfetish-3d-2160x1080-60fps-smartphone_hq-trailer-1.mp4\n",
      "  100.0%\n",
      "085/085-czechvrfetish-3d-2160x1080-60fps-smartphone_hq-trailer-1.mp4\n",
      "  100.0%\n",
      "086/086-czechvrfetish-3d-2160x1080-60fps-smartphone_hq-trailer-1.mp4\n",
      "  100.0%\n",
      "087/087-czechvrfetish-3d-2160x1080-60fps-smartphone_hq-trailer-1.mp4\n",
      "  100.0%\n",
      "088/088-czechvrfetish-3d-2160x1080-60fps-smartphone_hq-trailer-1.mp4\n",
      "  100.0%\n",
      "089/089-czechvrfetish-3d-2160x1080-60fps-smartphone_hq-trailer-1.mp4\n",
      "  100.0%\n",
      "090/090-czechvrfetish-3d-2160x1080-60fps-smartphone_hq-trailer-1.mp4\n",
      "  100.0%\n",
      "091/091-czechvrfetish-3d-2160x1080-60fps-smartphone_hq-trailer-1.mp4\n",
      "  100.0%\n",
      "092/092-czechvrfetish-3d-2160x1080-60fps-smartphone_hq-trailer-1.mp4\n",
      "  100.0%\n",
      "093/093-czechvrfetish-3d-2160x1080-60fps-smartphone_hq-trailer-1.mp4\n",
      "  100.0%\n",
      "094/094-czechvrfetish-3d-2160x1080-60fps-smartphone_hq-trailer-1.mp4\n",
      "  100.0%\n",
      "095/095-czechvrfetish-3d-2160x1080-60fps-smartphone_hq-trailer-1.mp4\n",
      "  100.0%\n",
      "096/096-czechvrfetish-3d-2160x1080-60fps-smartphone_hq-trailer-1.mp4\n",
      "  100.0%\n",
      "097/097-czechvrfetish-3d-2160x1080-60fps-smartphone_hq-trailer-1.mp4\n",
      "  100.0%\n",
      "098/098-czechvrfetish-3d-2160x1080-60fps-smartphone_hq-trailer-1.mp4\n",
      "  100.0%\n",
      "099/099-czechvrfetish-3d-2160x1080-60fps-smartphone_hq-trailer-1.mp4\n",
      "  100.0%\n",
      "100/100-czechvrfetish-3d-2160x1080-60fps-smartphone_hq-trailer-1.mp4\n",
      "  100.0%\n",
      "101/101-czechvrfetish-3d-2160x1080-60fps-smartphone_hq-trailer-1.mp4\n"
     ]
    }
   ],
   "source": [
    "index = 77\n",
    "while (True):\n",
    "    index += 1\n",
    "    otherUrl = '%03d/%03d-czechvrfetish-3d-2160x1080-60fps-smartphone_hq-trailer-1.mp4' % (index, index) \n",
    "    print(otherUrl)\n",
    "    \n",
    "    # 完整url\n",
    "    url = baseUrl + otherUrl\n",
    "    path = os.path.join('G:/ProgramData/ast/temp/VR/3','%03d-czechvrfetish-3d-2160x1080-60fps-smartphone_hq-trailer-1.mp4' % (index))\n",
    "\n",
    "    #a=urlopen(url)\n",
    "    #if (a.getcode() != 200):\n",
    "    if (index > 100):                    \n",
    "        break\n",
    "    else:\n",
    "        #os.path.join将多个路径组合后返回\n",
    "        urllib.request.urlretrieve(url, path, cbk)\n",
    "        print()\n",
    "    "
   ]
  },
  {
   "cell_type": "code",
   "execution_count": 5,
   "metadata": {},
   "outputs": [
    {
     "ename": "SyntaxError",
     "evalue": "invalid syntax (<ipython-input-5-6431411b2890>, line 1)",
     "output_type": "error",
     "traceback": [
      "\u001b[1;36m  File \u001b[1;32m\"<ipython-input-5-6431411b2890>\"\u001b[1;36m, line \u001b[1;32m1\u001b[0m\n\u001b[1;33m    https://trailers.czechvr.com/czechvrfetish/videos/download/051/051-czechvrfetish-3d-2160x1080-60fps-smartphone_hq-trailer-1.mp4\u001b[0m\n\u001b[1;37m           ^\u001b[0m\n\u001b[1;31mSyntaxError\u001b[0m\u001b[1;31m:\u001b[0m invalid syntax\n"
     ]
    }
   ],
   "source": [
    "https://trailers.czechvr.com/czechvrfetish/videos/download/051/051-czechvrfetish-3d-2160x1080-60fps-smartphone_hq-trailer-1.mp4"
   ]
  },
  {
   "cell_type": "code",
   "execution_count": null,
   "metadata": {},
   "outputs": [],
   "source": []
  }
 ],
 "metadata": {
  "kernelspec": {
   "display_name": "Python 3",
   "language": "python",
   "name": "python3"
  },
  "language_info": {
   "codemirror_mode": {
    "name": "ipython",
    "version": 3
   },
   "file_extension": ".py",
   "mimetype": "text/x-python",
   "name": "python",
   "nbconvert_exporter": "python",
   "pygments_lexer": "ipython3",
   "version": "3.6.4"
  }
 },
 "nbformat": 4,
 "nbformat_minor": 2
}
