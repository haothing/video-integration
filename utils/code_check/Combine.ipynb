{
 "cells": [
  {
   "cell_type": "code",
   "execution_count": 11,
   "metadata": {
    "scrolled": true
   },
   "outputs": [],
   "source": [
    "from moviepy.editor import *\n",
    "import os"
   ]
  },
  {
   "cell_type": "code",
   "execution_count": 12,
   "metadata": {
    "scrolled": true
   },
   "outputs": [],
   "source": [
    "# 定义一个数组\n",
    "L = []\n",
    "#A = []\n",
    "\n",
    "# 访问 video 文件夹 (假设视频都放在这里面)\n",
    "for root, dirs, files in os.walk(\"G:/ProgramData/ast/temp/VR/3/\"):\n",
    "    # 按文件名排序\n",
    "    files.sort()\n",
    "    # 遍历所有文件\n",
    "    for file in files:\n",
    "        # 如果后缀名为 .mp4\n",
    "        if os.path.splitext(file)[1] == '.mp4':\n",
    "            # 拼接成完整路径\n",
    "            filePath = os.path.join(root, file)\n",
    "            # 载入视频\n",
    "            video = VideoFileClip(filePath)\n",
    "            video = video.subclip(20, video.duration-38)\n",
    "            if video.w > 2880:\n",
    "               video = video.resize(width=1024)\n",
    "            # 添加到数组\n",
    "            L.append(video)\n",
    "            \n",
    "            #audio = AudioFileClip(filePath)\n",
    "            #audio = audio.subclip(20, video.duration-35)\n",
    "            #audio = video.audio\n",
    "            #A.append(audio)\n",
    "            #video.reader.close()\n",
    "            #video.audio.reader.close_proc()\n",
    "\n"
   ]
  },
  {
   "cell_type": "code",
   "execution_count": 13,
   "metadata": {
    "scrolled": true
   },
   "outputs": [
    {
     "data": {
      "text/plain": [
       "[<moviepy.video.io.VideoFileClip.VideoFileClip at 0x19296fd3b70>,\n",
       " <moviepy.video.io.VideoFileClip.VideoFileClip at 0x19296fd4c50>]"
      ]
     },
     "execution_count": 13,
     "metadata": {},
     "output_type": "execute_result"
    }
   ],
   "source": [
    "#L[0].audio.write_audiofile(\"G:/ProgramData/ast/temp/VR/3/audio.m4a\", codec=\"aac\")"
   ]
  },
  {
   "cell_type": "code",
   "execution_count": 14,
   "metadata": {
    "scrolled": true
   },
   "outputs": [
    {
     "name": "stderr",
     "output_type": "stream",
     "text": [
      "chunk:   0%|          | 2/1465 [00:00<01:25, 17.14it/s, now=None]"
     ]
    },
    {
     "name": "stdout",
     "output_type": "stream",
     "text": [
      "Moviepy - Building video G:/ProgramData/ast/temp/VR/3/target.mp4.\n",
      "MoviePy - Writing audio in %s\n"
     ]
    },
    {
     "name": "stderr",
     "output_type": "stream",
     "text": [
      "t:   0%|          | 2/3981 [00:00<03:26, 19.28it/s, now=None]        "
     ]
    },
    {
     "name": "stdout",
     "output_type": "stream",
     "text": [
      "MoviePy - Done.\n",
      "Moviepy - Writing video G:/ProgramData/ast/temp/VR/3/target.mp4\n",
      "\n"
     ]
    },
    {
     "name": "stderr",
     "output_type": "stream",
     "text": [
      "                                                                \r"
     ]
    },
    {
     "name": "stdout",
     "output_type": "stream",
     "text": [
      "Moviepy - Done !\n",
      "Moviepy - video ready G:/ProgramData/ast/temp/VR/3/target.mp4\n"
     ]
    }
   ],
   "source": [
    "# 拼接视频\n",
    "final_clip = concatenate_videoclips(L)\n",
    "#final_clip = CompositeVideoClip(L)\n",
    "#final_audio = CompositeAudioClip(A)\n",
    "                                      \n",
    "# 生成目标视频文件\n",
    "final_clip.write_videofile(\"G:/ProgramData/ast/temp/VR/3/target.mp4\", remove_temp=False, audio_codec=\"aac\")\n",
    "\n",
    "final_clip = None"
   ]
  },
  {
   "cell_type": "code",
   "execution_count": null,
   "metadata": {
    "scrolled": true
   },
   "outputs": [],
   "source": []
  }
 ],
 "metadata": {
  "kernelspec": {
   "display_name": "Python 3",
   "language": "python",
   "name": "python3"
  },
  "language_info": {
   "codemirror_mode": {
    "name": "ipython",
    "version": 3
   },
   "file_extension": ".py",
   "mimetype": "text/x-python",
   "name": "python",
   "nbconvert_exporter": "python",
   "pygments_lexer": "ipython3",
   "version": "3.6.4"
  }
 },
 "nbformat": 4,
 "nbformat_minor": 2
}
