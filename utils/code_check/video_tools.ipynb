{
 "cells": [
  {
   "cell_type": "code",
   "execution_count": 1,
   "metadata": {},
   "outputs": [],
   "source": [
    "from moviepy.editor import *\n",
    "from PIL import Image\n",
    "\n",
    "import os\n",
    "import math\n",
    "import numpy as np\n",
    "import random\n",
    "import cv2"
   ]
  },
  {
   "cell_type": "code",
   "execution_count": 2,
   "metadata": {},
   "outputs": [],
   "source": [
    "# get image from video\n",
    "# offset_t: skip offset_t time to start get images\n",
    "# interval = get image every time in seconds\n",
    "def get_image_from_video(video_path, save_path = '', offset_t = 0, interval = 300):\n",
    "    \n",
    "    if not save_path:\n",
    "        save_path = os.path.join(os.path.dirname(video_path),'temp_data')\n",
    "        if not os.path.exists(save_path):\n",
    "            os.mkdir(save_path)\n",
    "        \n",
    "    video = VideoFileClip(video_path)\n",
    "\n",
    "    for time_index in range(int(offset_t), int(video.duration), interval):\n",
    "    \n",
    "        #plt.subplot(10, 1, imageIndex)\n",
    "        #print(frameIndex)\n",
    "        f = video.get_frame(time_index)\n",
    "\n",
    "        img = Image.fromarray(f, 'RGB')\n",
    "        img.save(os.path.join(save_path,'%s_%d.jpg' % (video_path.split(\"/\")[-1], time_index)))\n",
    "        print('/%s_%d.jpg.jpg saved' % (video_path.split(\"/\")[-1], time_index))\n",
    "        \n",
    "    print('get_image_from_video complete !')"
   ]
  },
  {
   "cell_type": "code",
   "execution_count": 3,
   "metadata": {},
   "outputs": [
    {
     "name": "stdout",
     "output_type": "stream",
     "text": [
      "/ftvgirls.16.08.27.blaire.going.for.pink.mp4_60.jpg.jpg saved\n",
      "/ftvgirls.16.08.27.blaire.going.for.pink.mp4_360.jpg.jpg saved\n",
      "/ftvgirls.16.08.27.blaire.going.for.pink.mp4_660.jpg.jpg saved\n",
      "/ftvgirls.16.08.27.blaire.going.for.pink.mp4_960.jpg.jpg saved\n",
      "/ftvgirls.16.08.27.blaire.going.for.pink.mp4_1260.jpg.jpg saved\n",
      "/ftvgirls.16.08.27.blaire.going.for.pink.mp4_1560.jpg.jpg saved\n",
      "/ftvgirls.16.08.27.blaire.going.for.pink.mp4_1860.jpg.jpg saved\n",
      "/ftvgirls.16.08.27.blaire.going.for.pink.mp4_2160.jpg.jpg saved\n",
      "get_image_from_video complete !\n"
     ]
    }
   ],
   "source": [
    "get_image_from_video('G:/ProgramData/ast/temp/FTVGirls/FTVGirls.16.08.27.Blaire.Going.For.Pink.XXX.1080p.MP4-KTR[rarbg]/ftvgirls.16.08.27.blaire.going.for.pink.mp4',offset_t = 60)\n"
   ]
  },
  {
   "cell_type": "code",
   "execution_count": 2,
   "metadata": {},
   "outputs": [
    {
     "data": {
      "text/plain": [
       "'G:/ProgramData/ast/temp/VR/3\\\\001-czechvrfetish-3d-2160x1080-60fps-smartphone_hq-trailer-1.mp4'"
      ]
     },
     "execution_count": 2,
     "metadata": {},
     "output_type": "execute_result"
    }
   ],
   "source": [
    "path = os.path.join('G:/ProgramData/ast/temp/VR/3','%03d-czechvrfetish-3d-2160x1080-60fps-smartphone_hq-trailer-1.mp4' % (1))\n",
    "path"
   ]
  }
 ],
 "metadata": {
  "kernelspec": {
   "display_name": "Python 3",
   "language": "python",
   "name": "python3"
  },
  "language_info": {
   "codemirror_mode": {
    "name": "ipython",
    "version": 3
   },
   "file_extension": ".py",
   "mimetype": "text/x-python",
   "name": "python",
   "nbconvert_exporter": "python",
   "pygments_lexer": "ipython3",
   "version": "3.6.4"
  }
 },
 "nbformat": 4,
 "nbformat_minor": 2
}
